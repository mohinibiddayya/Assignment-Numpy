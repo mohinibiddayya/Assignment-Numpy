{
 "cells": [
  {
   "cell_type": "code",
   "execution_count": null,
   "metadata": {},
   "outputs": [],
   "source": [
    "#1. Explain the purpose and advantages of NumPy in scientific computing and data analysis. How does it enhance Python's capabilities for numerical operations?"
   ]
  },
  {
   "cell_type": "markdown",
   "metadata": {},
   "source": [
    "NumPy, short for Numerical Python, is a powerful library that plays a crucial role in scientific computing and data analysis with Python. \n",
    "Purpose of NumPy:\n",
    "* Efficient Array Operations: NumPy provides a high-performance multidimensional array object, called ndarray, which allows for efficient   storage and manipulation of numerical data.\n",
    "* Mathematical Functions: It includes a vast collection of mathematical functions that operate on arrays, enabling complex calculations and data manipulations.\n",
    "* Linear Algebra Support: NumPy includes functionalities for linear algebra operations, such as matrix multiplication, eigenvalue problems, and other advanced mathematical computations.\n",
    "* Random Number Generation: It offers tools for generating random numbers and performing statistical operations.\n",
    "* Integration with Other Libraries: NumPy serves as the foundational package for many other scientific libraries, such as SciPy, pandas, and Matplotlib, facilitating a cohesive ecosystem for data analysis and scientific computing.\n",
    "\n",
    "Advantages of NumPy:\n",
    "* Performance: NumPy operations are implemented in C and Fortran, making them significantly faster than equivalent operations in standard Python lists. This speed is particularly beneficial for large datasets.\n",
    "* Memory Efficiency: The ndarray is more memory-efficient than Python lists because it stores elements of the same data type, leading to optimized data storage.\n",
    "* Vectorization: NumPy allows for vectorized operations, enabling users to perform element-wise operations without writing explicit loops. This leads to cleaner and more readable code.\n",
    "* Broadcasting: NumPy can perform operations on arrays of different shapes through broadcasting, allowing for more flexibility in calculations without requiring manual manipulation of array shapes.\n",
    "* Extensive Functionality: The library supports a wide range of mathematical and statistical functions, making it versatile for various applications in science, engineering, and data analysis.\n",
    "* Interoperability: NumPy arrays can easily interface with other libraries and tools in the Python ecosystem, promoting seamless integration for more complex workflows.\n",
    "* Enhancing Python’s Capabilities\n",
    "\n",
    "NumPy enhances Python's capabilities for numerical operations by:\n",
    "* Providing a robust framework for handling large datasets efficiently.\n",
    "* Allowing complex mathematical operations with minimal code and better readability.\n",
    "* Enabling high-performance computations that are crucial for scientific research and data analysis."
   ]
  },
  {
   "cell_type": "code",
   "execution_count": null,
   "metadata": {},
   "outputs": [],
   "source": [
    "# 2. Compare and contrast np.mean() and np.average() functions in NumPy. When would you use one over the other?"
   ]
  },
  {
   "cell_type": "markdown",
   "metadata": {},
   "source": [
    "Both np.mean() and np.average() are functions in NumPy used to compute the central tendency of data, but they have distinct functionalities and use cases. Here’s a comparison:\n",
    "np.mean()\n",
    "Purpose: Computes the arithmetic mean of an array along a specified axis.\n",
    "Parameters:\n",
    "a: Input array.\n",
    "axis: Axis or axes along which the means are computed.\n",
    "dtype: Data type to use for the output.\n",
    "out: Alternative output array.\n",
    "keepdims: If set to True, the reduced axes are left in the result as dimensions with size one.\n",
    "Default Behavior: Calculates the mean of all elements if no axis is specified.\n",
    "\n",
    "np.average()\n",
    "Purpose: Computes the weighted average of an array, which can be adjusted by providing weights.\n",
    "Syntax: np.average(a, axis=None, weights=None, returned=False)\n",
    "Parameters:\n",
    "a: Input array.\n",
    "axis: Axis or axes along which the averages are computed.\n",
    "weights: Weights associated with the values in a. If not specified, all values are assumed to have equal weight.\n",
    "returned: If set to True, returns a tuple of the average and the sum of the weights.\n",
    "Default Behavior: Calculates the simple average (equivalent to np.mean()) if no weights are specified.\n",
    "\n",
    "Key Differences\n",
    "Weights:\n",
    "np.mean(): Does not take weights into account. All values are treated equally.\n",
    "np.average(): Allows for weights, making it suitable for scenarios where different values contribute differently to the average.\n",
    "Use Cases:\n",
    "\n",
    "Use np.mean() when you need the simple arithmetic mean of an array without any weighting considerations.\n",
    "Use np.average() when you need to calculate a weighted average, such as in statistical analysis where certain data points have different levels of importance."
   ]
  },
  {
   "cell_type": "code",
   "execution_count": null,
   "metadata": {},
   "outputs": [],
   "source": [
    "# 3. Describe the methods for reversing a NumPy array along different axes. Provide examples for 1D and 2D arrays."
   ]
  },
  {
   "cell_type": "markdown",
   "metadata": {},
   "source": [
    "Reversing a NumPy array can be done using slicing techniques along different axes.\n",
    "1D Array: Use slicing [::-1] to reverse the entire array.\n",
    "2D Array:\n",
    "Use [::-1, :] to reverse rows.\n",
    "Use [:, ::-1] to reverse columns.\n",
    "Use [::-1, ::-1] to reverse both rows and columns.\n",
    "These slicing techniques provide a straightforward and efficient way to reverse arrays in NumPy."
   ]
  },
  {
   "cell_type": "code",
   "execution_count": 1,
   "metadata": {},
   "outputs": [
    {
     "name": "stdout",
     "output_type": "stream",
     "text": [
      "Original 1D array: [1 2 3 4 5]\n",
      "Reversed 1D array: [5 4 3 2 1]\n"
     ]
    }
   ],
   "source": [
    "# Example for 1D array:\n",
    "import numpy as np\n",
    "\n",
    "# Create a 1D array\n",
    "array_1d = np.array([1, 2, 3, 4, 5])\n",
    "\n",
    "# Reverse the array\n",
    "reversed_1d = array_1d[::-1]\n",
    "\n",
    "print(\"Original 1D array:\", array_1d)\n",
    "print(\"Reversed 1D array:\", reversed_1d)\n"
   ]
  },
  {
   "cell_type": "code",
   "execution_count": 2,
   "metadata": {},
   "outputs": [
    {
     "name": "stdout",
     "output_type": "stream",
     "text": [
      "Reversed along axis 0 (rows):\n",
      "[[7 8 9]\n",
      " [4 5 6]\n",
      " [1 2 3]]\n",
      "\n",
      "Reversed along axis 1 (columns):\n",
      "[[3 2 1]\n",
      " [6 5 4]\n",
      " [9 8 7]]\n",
      "\n",
      "Reversed along both axes:\n",
      "[[9 8 7]\n",
      " [6 5 4]\n",
      " [3 2 1]]\n"
     ]
    }
   ],
   "source": [
    "# Example for 2D array.\n",
    "# Create a 2D array\n",
    "array_2d = np.array([[1, 2, 3],\n",
    "                     [4, 5, 6],\n",
    "                     [7, 8, 9]])\n",
    "\n",
    "# Reverse along axis 0 (rows)\n",
    "reversed_axis_0 = array_2d[::-1, :]\n",
    "print(\"Reversed along axis 0 (rows):\")\n",
    "print(reversed_axis_0)\n",
    "\n",
    "# Reverse along axis 1 (columns)\n",
    "reversed_axis_1 = array_2d[:, ::-1]\n",
    "print(\"\\nReversed along axis 1 (columns):\")\n",
    "print(reversed_axis_1)\n",
    "\n",
    "# Reverse along both axes\n",
    "reversed_both_axes = array_2d[::-1, ::-1]\n",
    "print(\"\\nReversed along both axes:\")\n",
    "print(reversed_both_axes)"
   ]
  },
  {
   "cell_type": "code",
   "execution_count": null,
   "metadata": {},
   "outputs": [],
   "source": [
    "#4. How can you determine the data type of elements in a NumPy array? Discuss the importance of data types in memory management and performance."
   ]
  },
  {
   "cell_type": "markdown",
   "metadata": {},
   "source": [
    "To determine the data type of elements in a NumPy array, we can use the .dtype attribute of the array. This attribute provides information about the data type of the elements stored in the array.\n",
    "\n",
    "Importance of Data Types:\n",
    "1. Memory Management:\n",
    "Different data types consume different amounts of memory. For example, an integer may take up 4 or 8 bytes (depending on the system), while a float usually takes up 8 bytes. Using the appropriate data type can significantly reduce memory usage, especially with large datasets.\n",
    "Choosing a smaller data type (like np.int8 instead of np.int64) can save memory but should be done with care to avoid overflow.\n",
    "2. Performance:\n",
    "Operations on NumPy arrays are optimized for specific data types. Using the correct type can enhance performance by allowing the underlying libraries (like BLAS or LAPACK) to use optimized routines.\n",
    "For example, operations on integer arrays may be faster than operations on floating-point arrays due to the simplicity of integer arithmetic.\n",
    "3.Numerical Precision:\n",
    "Different data types provide different levels of precision. For instance, float32 has lower precision compared to float64. Choosing the right type is crucial in applications that require high numerical precision, like scientific computing and machine learning.\n",
    "4. Type Safety:\n",
    "Knowing the data type can help prevent errors. For instance, if you expect an array of integers but receive an array of strings, it can lead to runtime errors or unexpected behavior in calculations."
   ]
  },
  {
   "cell_type": "code",
   "execution_count": 3,
   "metadata": {},
   "outputs": [
    {
     "name": "stdout",
     "output_type": "stream",
     "text": [
      "Data type of array_int: int32\n",
      "Data type of array_float: float64\n",
      "Data type of array_complex: complex128\n"
     ]
    }
   ],
   "source": [
    "#Example for checking data type\n",
    "import numpy as np\n",
    "\n",
    "# Create a NumPy array with integer data type\n",
    "array_int = np.array([1, 2, 3, 4])\n",
    "print(\"Data type of array_int:\", array_int.dtype)\n",
    "\n",
    "# Create a NumPy array with floating-point data type\n",
    "array_float = np.array([1.0, 2.0, 3.0])\n",
    "print(\"Data type of array_float:\", array_float.dtype)\n",
    "\n",
    "# Create a NumPy array with complex data type\n",
    "array_complex = np.array([1 + 2j, 3 + 4j])\n",
    "print(\"Data type of array_complex:\", array_complex.dtype)\n"
   ]
  },
  {
   "cell_type": "code",
   "execution_count": null,
   "metadata": {},
   "outputs": [],
   "source": [
    "# 5. Define ndarrays in NumPy and explain their key features. How do they differ from standard Python lists?"
   ]
  },
  {
   "cell_type": "markdown",
   "metadata": {},
   "source": [
    "An ndarray is a powerful N-dimensional array object that allows you to store and operate on large datasets in a vectorized manner. Each array has a shape, which defines its dimensions, and a data type, which specifies the type of elements it can hold.\n",
    "\n",
    "Key Features of ndarrays\n",
    "* Multidimensional: ndarrays can have any number of dimensions (1D, 2D, 3D, etc.), allowing for complex data representations.\n",
    "* Homogeneous Data: All elements in an ndarray must be of the same data type (e.g., all integers or all floats), leading to more efficient storage and operations.\n",
    "* Contiguous Memory Layout: ndarrays store data in contiguous blocks of memory, which enhances performance for numerical computations due to better cache utilization.\n",
    "* Broadcasting: NumPy supports broadcasting, which allows for arithmetic operations on arrays of different shapes without needing to manually adjust their sizes.\n",
    "* Vectorized Operations: You can perform element-wise operations on ndarrays without explicit loops, leading to cleaner code and faster execution.\n",
    "* Rich Functionality: NumPy provides a wide array of built-in functions for mathematical operations, statistical analyses, linear algebra, and more, all optimized for ndarrays.\n",
    "* Indexing and Slicing: ndarrays support advanced indexing and slicing techniques, enabling you to extract or modify subarrays efficiently.\n",
    "\n",
    "Differences Between ndarrays and Python Lists\n",
    "Data Type Consistency:\n",
    "ndarrays: Homogeneous; all elements must be of the same data type.\n",
    "Lists: Heterogeneous; can contain elements of different types (e.g., integers, floats, strings).\n",
    "Performance:\n",
    "ndarrays: More memory-efficient and faster for numerical computations due to optimized storage and operations.\n",
    "Lists: Slower for numerical operations, as they require element-wise processing through Python loops.\n",
    "Functionality:\n",
    "ndarrays: Comes with a comprehensive set of mathematical functions and methods for array manipulation.\n",
    "Lists: Limited to built-in Python methods; no specialized numerical functions.\n",
    "Memory Usage:\n",
    "ndarrays: Uses less memory for large datasets due to homogeneous storage and efficient data types.\n",
    "Lists: Can be less efficient, as each element has additional overhead to store type information.\n",
    "Array Operations:\n",
    "ndarrays: Supports vectorized operations (e.g., element-wise addition) directly.\n",
    "Lists: Requires explicit loops for similar operations, which can be less readable and slower."
   ]
  },
  {
   "cell_type": "code",
   "execution_count": null,
   "metadata": {},
   "outputs": [],
   "source": [
    "# 6. Analyze the performance benefits of NumPy arrays over Python lists for large-scale numerical operations."
   ]
  },
  {
   "cell_type": "markdown",
   "metadata": {},
   "source": [
    "NumPy arrays offer several significant performance benefits over standard Python lists, particularly when it comes to large-scale numerical operations.\n",
    "1. Memory Efficiency:\n",
    "* Contiguous Memory Storage: NumPy arrays are stored in contiguous blocks of memory, which minimizes overhead and improves data locality. This is more efficient than Python lists, which store references to objects scattered in memory. Contiguous storage enables better cache utilization by the CPU, leading to faster access times.\n",
    "* Homogeneous Data Types: All elements in a NumPy array must be of the same type, allowing for optimized memory allocation. In contrast, Python lists can store different types, which incurs additional memory overhead for type information.\n",
    "2. Speed of Operations\n",
    "Vectorized Operations: NumPy allows for element-wise operations to be performed directly on arrays without the need for explicit loops in Python. This vectorization leverages highly optimized C and Fortran libraries under the hood, resulting in significant speed improvements. In contrast, operations on Python lists require iteration through each element, which can be slow for large datasets.\n",
    "Optimized Mathematical Functions\n",
    "Built-in Functions: NumPy provides a comprehensive set of optimized mathematical functions (e.g., np.sum, np.mean, np.dot) that operate directly on arrays. These functions are implemented in C and can perform operations faster than equivalent Python functions applied to lists.\n",
    "4. Broadcasting\n",
    "Flexible Operations: NumPy’s broadcasting feature allows operations between arrays of different shapes without requiring explicit resizing. This capability can simplify code and enhance performance by avoiding the overhead of creating new arrays.\n",
    "5. Reduced Overhead\n",
    "Minimal Type Checks: NumPy arrays benefit from minimal type checking and overhead during operations, as the data type is fixed. In contrast, Python lists perform dynamic type checking, which can slow down operations.\n",
    "6. Parallel Processing and Optimization\n",
    "Integration with Libraries: NumPy integrates seamlessly with optimized libraries such as BLAS and LAPACK, which can perform linear algebra operations in parallel. This leads to faster computations for operations like matrix multiplication or solving systems of equations compared to using nested loops with Python lists."
   ]
  },
  {
   "cell_type": "code",
   "execution_count": null,
   "metadata": {},
   "outputs": [],
   "source": [
    "# 7. Compare vstack() and hstack() functions in NumPy. Provide examples demonstrating their usage and output."
   ]
  },
  {
   "cell_type": "markdown",
   "metadata": {},
   "source": [
    "The vstack() and hstack() functions in NumPy are used for stacking arrays vertically and horizontally, respectively. \n",
    "vstack(): \n",
    "Purpose: Stacks arrays in sequence vertically (row-wise).\n",
    "Input: Arrays to be stacked must have the same shape along all but the first axis"
   ]
  },
  {
   "cell_type": "code",
   "execution_count": 4,
   "metadata": {},
   "outputs": [
    {
     "name": "stdout",
     "output_type": "stream",
     "text": [
      "Array 1:\n",
      "[[1 2 3]\n",
      " [4 5 6]]\n",
      "\n",
      "Array 2:\n",
      "[[ 7  8  9]\n",
      " [10 11 12]]\n",
      "\n",
      "Vertically stacked array:\n",
      "[[ 1  2  3]\n",
      " [ 4  5  6]\n",
      " [ 7  8  9]\n",
      " [10 11 12]]\n"
     ]
    }
   ],
   "source": [
    "# Example for vstack()\n",
    "import numpy as np\n",
    "\n",
    "# Create two 2D arrays\n",
    "array1 = np.array([[1, 2, 3],\n",
    "                   [4, 5, 6]])\n",
    "\n",
    "array2 = np.array([[7, 8, 9],\n",
    "                   [10, 11, 12]])\n",
    "\n",
    "# Stack arrays vertically\n",
    "vstacked = np.vstack((array1, array2))\n",
    "\n",
    "print(\"Array 1:\")\n",
    "print(array1)\n",
    "\n",
    "print(\"\\nArray 2:\")\n",
    "print(array2)\n",
    "\n",
    "print(\"\\nVertically stacked array:\")\n",
    "print(vstacked)\n"
   ]
  },
  {
   "cell_type": "markdown",
   "metadata": {},
   "source": [
    "hstack():\n",
    "Purpose: Stacks arrays in sequence horizontally (column-wise).\n",
    "Input: Arrays to be stacked must have the same shape along all but the second axis."
   ]
  },
  {
   "cell_type": "code",
   "execution_count": 5,
   "metadata": {},
   "outputs": [
    {
     "name": "stdout",
     "output_type": "stream",
     "text": [
      "Array 3:\n",
      "[[1 2]\n",
      " [3 4]]\n",
      "\n",
      "Array 4:\n",
      "[[5 6]\n",
      " [7 8]]\n",
      "\n",
      "Horizontally stacked array:\n",
      "[[1 2 5 6]\n",
      " [3 4 7 8]]\n"
     ]
    }
   ],
   "source": [
    "# Example of hstack()\n",
    "# Create two 2D arrays\n",
    "array3 = np.array([[1, 2],\n",
    "                   [3, 4]])\n",
    "\n",
    "array4 = np.array([[5, 6],\n",
    "                   [7, 8]])\n",
    "\n",
    "# Stack arrays horizontally\n",
    "hstacked = np.hstack((array3, array4))\n",
    "\n",
    "print(\"Array 3:\")\n",
    "print(array3)\n",
    "\n",
    "print(\"\\nArray 4:\")\n",
    "print(array4)\n",
    "\n",
    "print(\"\\nHorizontally stacked array:\")\n",
    "print(hstacked)\n"
   ]
  },
  {
   "cell_type": "code",
   "execution_count": null,
   "metadata": {},
   "outputs": [],
   "source": [
    "# 8. Explain the differences between fliplr() and flipud() methods in NumPy, including their effects on various array dimensions"
   ]
  },
  {
   "cell_type": "markdown",
   "metadata": {},
   "source": [
    "In NumPy, the fliplr() and flipud() functions are used to flip arrays along different axes.\n",
    "Differences\n",
    "* Direction of Flip:\n",
    "fliplr(): Flips the array horizontally (left to right).\n",
    "flipud(): Flips the array vertically (up to down).\n",
    "* Effect on Array:\n",
    "fliplr(): Reverses the order of elements in each row.\n",
    "flipud(): Reverses the order of elements in each column.\n",
    "* Dimensionality:B\n",
    "Both functions primarily operate on 2D arrays but can also work on higher-dimensional arrays, treating each 2D slice independently.\n",
    "fliplr(): \n",
    "Purpose: Flips an array left to right (horizontally).\n",
    "Effect: The order of elements in each row is reversed.\n",
    "Applicable Dimensions: Primarily operates on 2D arrays, but it can be used on higher-dimensional arrays as well, treating each 2D slice along the first axis independently."
   ]
  },
  {
   "cell_type": "code",
   "execution_count": 6,
   "metadata": {},
   "outputs": [
    {
     "name": "stdout",
     "output_type": "stream",
     "text": [
      "Original array:\n",
      "[[1 2 3]\n",
      " [4 5 6]\n",
      " [7 8 9]]\n",
      "\n",
      "Flipped left to right (fliplr):\n",
      "[[3 2 1]\n",
      " [6 5 4]\n",
      " [9 8 7]]\n"
     ]
    }
   ],
   "source": [
    "# Example of fliplr()\n",
    "import numpy as np\n",
    "\n",
    "# Create a 2D array\n",
    "array_2d = np.array([[1, 2, 3],\n",
    "                     [4, 5, 6],\n",
    "                     [7, 8, 9]])\n",
    "\n",
    "# Flip the array left to right\n",
    "flipped_lr = np.fliplr(array_2d)\n",
    "\n",
    "print(\"Original array:\")\n",
    "print(array_2d)\n",
    "\n",
    "print(\"\\nFlipped left to right (fliplr):\")\n",
    "print(flipped_lr)\n"
   ]
  },
  {
   "cell_type": "code",
   "execution_count": null,
   "metadata": {},
   "outputs": [],
   "source": [
    "flipud()\n",
    "Purpose: Flips an array up to down (vertically).\n",
    "Effect: The order of elements in each column is reversed.\n",
    "Applicable Dimensions: Similar to fliplr(), it primarily works on 2D arrays but can also be used on higher-dimensional arrays."
   ]
  },
  {
   "cell_type": "code",
   "execution_count": 7,
   "metadata": {},
   "outputs": [
    {
     "name": "stdout",
     "output_type": "stream",
     "text": [
      "Original array:\n",
      "[[1 2 3]\n",
      " [4 5 6]\n",
      " [7 8 9]]\n",
      "\n",
      "Flipped up to down (flipud):\n",
      "[[7 8 9]\n",
      " [4 5 6]\n",
      " [1 2 3]]\n"
     ]
    }
   ],
   "source": [
    "# Example of flipud()\n",
    "# Create a 2D array\n",
    "array_2d = np.array([[1, 2, 3],\n",
    "                     [4, 5, 6],\n",
    "                     [7, 8, 9]])\n",
    "\n",
    "# Flip the array up to down\n",
    "flipped_ud = np.flipud(array_2d)\n",
    "\n",
    "print(\"Original array:\")\n",
    "print(array_2d)\n",
    "\n",
    "print(\"\\nFlipped up to down (flipud):\")\n",
    "print(flipped_ud)\n",
    "\n"
   ]
  },
  {
   "cell_type": "code",
   "execution_count": null,
   "metadata": {},
   "outputs": [],
   "source": [
    "# 9. Discuss the functionality of the array_split() method in NumPy. How does it handle uneven splits?"
   ]
  },
  {
   "cell_type": "markdown",
   "metadata": {},
   "source": [
    "The array_split() method in NumPy is used to split an array into multiple sub-arrays. It provides more flexibility than the split() method, especially when the array size is not perfectly divisible by the specified number of splits.\n",
    "unctionality of array_split()\n",
    "Purpose: To divide an array into multiple sub-arrays along a specified axis.\n",
    "Input Parameters:\n",
    "ary: The input array to be split.\n",
    "indices_or_sections: This can be an integer or a list. If it’s an integer, it specifies the number of equal-sized sub-arrays to return. If it’s a list, it defines the specific indices at which to split the array.\n",
    "axis: The axis along which to split the array (default is 0, which is the first axis)."
   ]
  },
  {
   "cell_type": "code",
   "execution_count": 8,
   "metadata": {},
   "outputs": [
    {
     "name": "stdout",
     "output_type": "stream",
     "text": [
      "Original array: [1 2 3 4 5 6]\n",
      "Split arrays:\n",
      "[1 2]\n",
      "[3 4]\n",
      "[5 6]\n"
     ]
    }
   ],
   "source": [
    "# Example for array_split\n",
    "import numpy as np\n",
    "\n",
    "# Create an array\n",
    "array = np.array([1, 2, 3, 4, 5, 6])\n",
    "\n",
    "# Split the array into 3 equal parts\n",
    "split_arrays = np.array_split(array, 3)\n",
    "\n",
    "print(\"Original array:\", array)\n",
    "print(\"Split arrays:\")\n",
    "for sub_array in split_arrays:\n",
    "    print(sub_array)\n"
   ]
  },
  {
   "cell_type": "markdown",
   "metadata": {},
   "source": [
    "Handling Uneven Splits:\n",
    "When the array size is not evenly divisible by the number of desired splits, array_split() handles this by distributing the remaining elements across the resulting sub-arrays. The extra elements are distributed one by one to the first few sub-arrays until all elements are accounted for."
   ]
  },
  {
   "cell_type": "code",
   "execution_count": 9,
   "metadata": {},
   "outputs": [
    {
     "name": "stdout",
     "output_type": "stream",
     "text": [
      "Original array: [1 2 3 4 5 6]\n",
      "Unevenly split arrays:\n",
      "[1 2]\n",
      "[3 4]\n",
      "[5]\n",
      "[6]\n"
     ]
    }
   ],
   "source": [
    "# Example for Uneven splits\n",
    "# Split the array into 4 parts (uneven split)\n",
    "uneven_split_arrays = np.array_split(array, 4)\n",
    "\n",
    "print(\"Original array:\", array)\n",
    "print(\"Unevenly split arrays:\")\n",
    "for sub_array in uneven_split_arrays:\n",
    "    print(sub_array)\n"
   ]
  },
  {
   "cell_type": "code",
   "execution_count": null,
   "metadata": {},
   "outputs": [],
   "source": [
    "# 10. Explain the concepts of vectorization and broadcasting in NumPy. How do they contribute to efficient array operations?"
   ]
  },
  {
   "cell_type": "markdown",
   "metadata": {},
   "source": [
    "vectorization refers to the ability to perform operations on entire arrays (or large chunks of data) at once, rather than using explicit loops to iterate over individual elements. This takes advantage of NumPy's underlying optimizations, which leverage low-level implementations (like C and Fortran) to execute operations in a highly efficient manner.\n",
    "\n",
    "Benefits:\n",
    "* Performance Improvement: Vectorized operations can be significantly faster than their loop-based counterparts because they minimize the overhead of Python's interpreted loops.\n",
    "* Cleaner Code: Vectorization leads to more concise and readable code, making it easier to understand and maintain. \n",
    "Broadcasting\n",
    "Definition: Broadcasting is a technique that allows NumPy to perform arithmetic operations on arrays of different shapes and sizes. When operating on two arrays, NumPy will automatically \"stretch\" the smaller array across the larger one so that they have compatible shapes.\n",
    "\n",
    "How it Works:\n",
    "Shape Compatibility: Two arrays are compatible for broadcasting if:\n",
    "They have the same number of dimensions.\n",
    "The size of each dimension is either the same or one of them is 1.\n",
    "Stretching: The smaller array is virtually expanded to match the shape of the larger array during the operation.\n",
    "Benefits:\n",
    "Flexibility: Broadcasting allows for operations on arrays of different shapes without requiring explicit reshaping or tiling of data.\n",
    "Performance: It avoids the need for copying data or using loops, which can improve computational efficiency."
   ]
  },
  {
   "cell_type": "code",
   "execution_count": null,
   "metadata": {},
   "outputs": [],
   "source": [
    "# 11. Create a 3x3 NumPy array with random integers between 1 and 100. Then, interchange its rows and columns."
   ]
  },
  {
   "cell_type": "code",
   "execution_count": 12,
   "metadata": {},
   "outputs": [
    {
     "name": "stdout",
     "output_type": "stream",
     "text": [
      "Original array:\n",
      "[[ 9 41 10]\n",
      " [44 47 52]\n",
      " [75 79 24]]\n",
      "\n",
      "Transposed array (interchanged rows and columns):\n",
      "[[ 9 44 75]\n",
      " [41 47 79]\n",
      " [10 52 24]]\n"
     ]
    }
   ],
   "source": [
    "import numpy as np\n",
    "\n",
    "# Step 1: Create a 3x3 array with random integers between 1 and 100\n",
    "array = np.random.randint(1, 101, size=(3, 3))\n",
    "print(\"Original array:\")\n",
    "print(array)\n",
    "\n",
    "# Step 2: Interchange rows and columns\n",
    "transposed_array = np.transpose(array)\n",
    "# or alternatively\n",
    "# transposed_array = array.T\n",
    "\n",
    "print(\"\\nTransposed array (interchanged rows and columns):\")\n",
    "print(transposed_array)\n"
   ]
  },
  {
   "cell_type": "code",
   "execution_count": null,
   "metadata": {},
   "outputs": [],
   "source": [
    "# 12. Generate a 1D NumPy array with 10 elements. Reshape it into a 2x5 array, then into a 5x2 array"
   ]
  },
  {
   "cell_type": "code",
   "execution_count": 13,
   "metadata": {},
   "outputs": [
    {
     "name": "stdout",
     "output_type": "stream",
     "text": [
      "Original 1D array:\n",
      "[0 1 2 3 4 5 6 7 8 9]\n",
      "\n",
      "Reshaped into 2x5 array:\n",
      "[[0 1 2 3 4]\n",
      " [5 6 7 8 9]]\n",
      "\n",
      "Reshaped into 5x2 array:\n",
      "[[0 1]\n",
      " [2 3]\n",
      " [4 5]\n",
      " [6 7]\n",
      " [8 9]]\n"
     ]
    }
   ],
   "source": [
    "import numpy as np\n",
    "\n",
    "# Step 1: Generate a 1D array with 10 elements\n",
    "array_1d = np.arange(10)  # Creates an array with elements [0, 1, 2, ..., 9]\n",
    "print(\"Original 1D array:\")\n",
    "print(array_1d)\n",
    "\n",
    "# Step 2: Reshape into a 2x5 array\n",
    "array_2x5 = array_1d.reshape(2, 5)\n",
    "print(\"\\nReshaped into 2x5 array:\")\n",
    "print(array_2x5)\n",
    "\n",
    "# Step 3: Reshape into a 5x2 array\n",
    "array_5x2 = array_1d.reshape(5, 2)\n",
    "print(\"\\nReshaped into 5x2 array:\")\n",
    "print(array_5x2)\n"
   ]
  },
  {
   "cell_type": "code",
   "execution_count": null,
   "metadata": {},
   "outputs": [],
   "source": [
    "# 13. Create a 4x4 NumPy array with random float values. Add a border of zeros around it, resulting in a 6x6 array."
   ]
  },
  {
   "cell_type": "code",
   "execution_count": 14,
   "metadata": {},
   "outputs": [
    {
     "name": "stdout",
     "output_type": "stream",
     "text": [
      "Original 4x4 array:\n",
      "[[0.65892424 0.39326045 0.20903659 0.10914687]\n",
      " [0.5937082  0.1087472  0.80043246 0.56228817]\n",
      " [0.1796384  0.66828956 0.59771421 0.39421612]\n",
      " [0.29987918 0.64809006 0.45718142 0.77414145]]\n",
      "\n",
      "6x6 array with a border of zeros:\n",
      "[[0.         0.         0.         0.         0.         0.        ]\n",
      " [0.         0.65892424 0.39326045 0.20903659 0.10914687 0.        ]\n",
      " [0.         0.5937082  0.1087472  0.80043246 0.56228817 0.        ]\n",
      " [0.         0.1796384  0.66828956 0.59771421 0.39421612 0.        ]\n",
      " [0.         0.29987918 0.64809006 0.45718142 0.77414145 0.        ]\n",
      " [0.         0.         0.         0.         0.         0.        ]]\n"
     ]
    }
   ],
   "source": [
    "import numpy as np\n",
    "\n",
    "# Step 1: Create a 4x4 array with random float values\n",
    "array_4x4 = np.random.rand(4, 4)\n",
    "print(\"Original 4x4 array:\")\n",
    "print(array_4x4)\n",
    "\n",
    "# Step 2: Add a border of zeros around the 4x4 array\n",
    "array_with_border = np.pad(array_4x4, pad_width=1, mode='constant', constant_values=0)\n",
    "\n",
    "print(\"\\n6x6 array with a border of zeros:\")\n",
    "print(array_with_border)\n"
   ]
  },
  {
   "cell_type": "code",
   "execution_count": null,
   "metadata": {},
   "outputs": [],
   "source": [
    "# 14. Using NumPy, create an array of integers from 10 to 60 with a step of 5"
   ]
  },
  {
   "cell_type": "code",
   "execution_count": 15,
   "metadata": {},
   "outputs": [
    {
     "name": "stdout",
     "output_type": "stream",
     "text": [
      "Array of integers from 10 to 60 with a step of 5:\n",
      "[10 15 20 25 30 35 40 45 50 55 60]\n"
     ]
    }
   ],
   "source": [
    "import numpy as np\n",
    "\n",
    "# Create an array of integers from 10 to 60 with a step of 5\n",
    "array = np.arange(10, 61, 5)\n",
    "\n",
    "print(\"Array of integers from 10 to 60 with a step of 5:\")\n",
    "print(array)\n"
   ]
  },
  {
   "cell_type": "code",
   "execution_count": null,
   "metadata": {},
   "outputs": [],
   "source": [
    "# 15. Create a NumPy array of strings ['python', 'numpy', 'pandas']. Apply different case transformations (uppercase, lowercase, title case, etc.) to each element."
   ]
  },
  {
   "cell_type": "code",
   "execution_count": 16,
   "metadata": {},
   "outputs": [
    {
     "name": "stdout",
     "output_type": "stream",
     "text": [
      "Original array:\n",
      "['python' 'numpy' 'pandas']\n",
      "\n",
      "Uppercase:\n",
      "['PYTHON' 'NUMPY' 'PANDAS']\n",
      "\n",
      "Lowercase:\n",
      "['python' 'numpy' 'pandas']\n",
      "\n",
      "Title case:\n",
      "['Python' 'Numpy' 'Pandas']\n",
      "\n",
      "Capitalized:\n",
      "['Python' 'Numpy' 'Pandas']\n"
     ]
    }
   ],
   "source": [
    "import numpy as np\n",
    "\n",
    "# Create a NumPy array of strings\n",
    "array = np.array(['python', 'numpy', 'pandas'])\n",
    "\n",
    "# Apply different case transformations\n",
    "uppercase = np.char.upper(array)\n",
    "lowercase = np.char.lower(array)\n",
    "titlecase = np.char.title(array)\n",
    "capitalize = np.char.capitalize(array)\n",
    "\n",
    "# Print the results\n",
    "print(\"Original array:\")\n",
    "print(array)\n",
    "\n",
    "print(\"\\nUppercase:\")\n",
    "print(uppercase)\n",
    "\n",
    "print(\"\\nLowercase:\")\n",
    "print(lowercase)\n",
    "\n",
    "print(\"\\nTitle case:\")\n",
    "print(titlecase)\n",
    "\n",
    "print(\"\\nCapitalized:\")\n",
    "print(capitalize)\n"
   ]
  },
  {
   "cell_type": "code",
   "execution_count": null,
   "metadata": {},
   "outputs": [],
   "source": [
    "# 16. Generate a NumPy array of words. Insert a space between each character of every word in the array."
   ]
  },
  {
   "cell_type": "code",
   "execution_count": 17,
   "metadata": {},
   "outputs": [
    {
     "name": "stdout",
     "output_type": "stream",
     "text": [
      "Original array of words:\n",
      "['python' 'numpy' 'pandas']\n",
      "\n",
      "Words with spaces between characters:\n",
      "['p y t h o n' 'n u m p y' 'p a n d a s']\n"
     ]
    }
   ],
   "source": [
    "import numpy as np\n",
    "\n",
    "# Create a NumPy array of words\n",
    "words_array = np.array(['python', 'numpy', 'pandas'])\n",
    "\n",
    "# Insert a space between each character of every word\n",
    "spaced_words = np.char.join(' ', words_array)\n",
    "\n",
    "print(\"Original array of words:\")\n",
    "print(words_array)\n",
    "\n",
    "print(\"\\nWords with spaces between characters:\")\n",
    "print(spaced_words)\n"
   ]
  },
  {
   "cell_type": "code",
   "execution_count": null,
   "metadata": {},
   "outputs": [],
   "source": [
    "# 17. Create two 2D NumPy arrays and perform element-wise addition, subtraction, multiplication, and division"
   ]
  },
  {
   "cell_type": "code",
   "execution_count": 18,
   "metadata": {},
   "outputs": [
    {
     "name": "stdout",
     "output_type": "stream",
     "text": [
      "Array 1:\n",
      "[[1 2 3]\n",
      " [4 5 6]]\n",
      "\n",
      "Array 2:\n",
      "[[ 7  8  9]\n",
      " [10 11 12]]\n",
      "\n",
      "Element-wise Addition:\n",
      "[[ 8 10 12]\n",
      " [14 16 18]]\n",
      "\n",
      "Element-wise Subtraction:\n",
      "[[-6 -6 -6]\n",
      " [-6 -6 -6]]\n",
      "\n",
      "Element-wise Multiplication:\n",
      "[[ 7 16 27]\n",
      " [40 55 72]]\n",
      "\n",
      "Element-wise Division:\n",
      "[[0.14285714 0.25       0.33333333]\n",
      " [0.4        0.45454545 0.5       ]]\n"
     ]
    }
   ],
   "source": [
    "import numpy as np\n",
    "\n",
    "# Create two 2D NumPy arrays\n",
    "array1 = np.array([[1, 2, 3],\n",
    "                   [4, 5, 6]])\n",
    "\n",
    "array2 = np.array([[7, 8, 9],\n",
    "                   [10, 11, 12]])\n",
    "\n",
    "# Perform element-wise addition\n",
    "addition = array1 + array2\n",
    "\n",
    "# Perform element-wise subtraction\n",
    "subtraction = array1 - array2\n",
    "\n",
    "# Perform element-wise multiplication\n",
    "multiplication = array1 * array2\n",
    "\n",
    "# Perform element-wise division\n",
    "division = array1 / array2\n",
    "\n",
    "# Print the results\n",
    "print(\"Array 1:\")\n",
    "print(array1)\n",
    "\n",
    "print(\"\\nArray 2:\")\n",
    "print(array2)\n",
    "\n",
    "print(\"\\nElement-wise Addition:\")\n",
    "print(addition)\n",
    "\n",
    "print(\"\\nElement-wise Subtraction:\")\n",
    "print(subtraction)\n",
    "\n",
    "print(\"\\nElement-wise Multiplication:\")\n",
    "print(multiplication)\n",
    "\n",
    "print(\"\\nElement-wise Division:\")\n",
    "print(division)\n"
   ]
  },
  {
   "cell_type": "code",
   "execution_count": null,
   "metadata": {},
   "outputs": [],
   "source": [
    "# 18. Use NumPy to create a 5x5 identity matrix, then extract its diagonal elements."
   ]
  },
  {
   "cell_type": "code",
   "execution_count": 19,
   "metadata": {},
   "outputs": [
    {
     "name": "stdout",
     "output_type": "stream",
     "text": [
      "5x5 Identity Matrix:\n",
      "[[1. 0. 0. 0. 0.]\n",
      " [0. 1. 0. 0. 0.]\n",
      " [0. 0. 1. 0. 0.]\n",
      " [0. 0. 0. 1. 0.]\n",
      " [0. 0. 0. 0. 1.]]\n",
      "\n",
      "Diagonal Elements:\n",
      "[1. 1. 1. 1. 1.]\n"
     ]
    }
   ],
   "source": [
    "import numpy as np\n",
    "\n",
    "# Step 1: Create a 5x5 identity matrix\n",
    "identity_matrix = np.eye(5)\n",
    "print(\"5x5 Identity Matrix:\")\n",
    "print(identity_matrix)\n",
    "\n",
    "# Step 2: Extract the diagonal elements\n",
    "diagonal_elements = np.diagonal(identity_matrix)\n",
    "print(\"\\nDiagonal Elements:\")\n",
    "print(diagonal_elements)\n"
   ]
  },
  {
   "cell_type": "code",
   "execution_count": null,
   "metadata": {},
   "outputs": [],
   "source": [
    "# 19. Generate a NumPy array of 100 random integers between 0 and 1000. Find and display all prime numbers in this array."
   ]
  },
  {
   "cell_type": "code",
   "execution_count": 20,
   "metadata": {},
   "outputs": [
    {
     "name": "stdout",
     "output_type": "stream",
     "text": [
      "Random integers:\n",
      "[ 26 812 524 997 570 440 622 608 603 786 742 513 911 771  17 851 261 718\n",
      " 316 324 654  96 546 776 209 717 492 887 515 507 404 599 653  11 690 945\n",
      " 999 949 146 477 297 817 815 766 239  28 653 217 808 203 816 832 362 372\n",
      " 782  27   3 535  25 750 939  96 568  77 680 962  71 971 312 501 185 830\n",
      " 241 165 702 412 994 955 885 185 967 433 366  18 668 668 205  13 625 778\n",
      " 489 546  91 199  29 130 804 564 600 300]\n",
      "\n",
      "Prime numbers in the array:\n",
      "[997, 911, 17, 887, 599, 653, 11, 239, 653, 3, 71, 971, 241, 967, 433, 13, 199, 29]\n"
     ]
    }
   ],
   "source": [
    "import numpy as np\n",
    "\n",
    "# Step 1: Generate a NumPy array of 100 random integers between 0 and 1000\n",
    "random_integers = np.random.randint(0, 1001, size=100)\n",
    "\n",
    "# Step 2: Function to check if a number is prime\n",
    "def is_prime(n):\n",
    "    if n <= 1:\n",
    "        return False\n",
    "    for i in range(2, int(n**0.5) + 1):\n",
    "        if n % i == 0:\n",
    "            return False\n",
    "    return True\n",
    "\n",
    "# Step 3: Find all prime numbers in the array\n",
    "prime_numbers = [num for num in random_integers if is_prime(num)]\n",
    "\n",
    "# Display results\n",
    "print(\"Random integers:\")\n",
    "print(random_integers)\n",
    "\n",
    "print(\"\\nPrime numbers in the array:\")\n",
    "print(prime_numbers)\n"
   ]
  },
  {
   "cell_type": "code",
   "execution_count": null,
   "metadata": {},
   "outputs": [],
   "source": [
    "# 20. Create a NumPy array representing daily temperatures for a month. Calculate and display the weekly averages."
   ]
  },
  {
   "cell_type": "code",
   "execution_count": 22,
   "metadata": {},
   "outputs": [
    {
     "name": "stdout",
     "output_type": "stream",
     "text": [
      "Daily Temperatures for the Month:\n",
      "[28 28 29 23 18 21 23 30 27 23 18 16 18 23 16 26 27 18 16 29 30 27 15 26\n",
      " 17 19 30 19 20 20]\n",
      "\n",
      "Weekly Averages:\n",
      "[24.5        22.83333333 21.33333333 23.83333333 20.83333333]\n"
     ]
    }
   ],
   "source": [
    "import numpy as np\n",
    "\n",
    "# Step 1: Create a NumPy array representing daily temperatures for a month (30 days)\n",
    "# For example, let's generate random temperatures between 15 and 30 degrees Celsius\n",
    "daily_temperatures = np.random.randint(15, 31, size=30)\n",
    "\n",
    "print(\"Daily Temperatures for the Month:\")\n",
    "print(daily_temperatures)\n",
    "\n",
    "# Step 2: Reshape the array into a 2D array (5 weeks)\n",
    "weekly_temperatures = daily_temperatures.reshape(5, 6)  # 5 weeks, 6 days each\n",
    "\n",
    "# Step 3: Calculate the average temperature for each week\n",
    "weekly_averages = np.mean(weekly_temperatures, axis=1)\n",
    "\n",
    "# Display results\n",
    "print(\"\\nWeekly Averages:\")\n",
    "print(weekly_averages)\n"
   ]
  },
  {
   "cell_type": "code",
   "execution_count": null,
   "metadata": {},
   "outputs": [],
   "source": []
  }
 ],
 "metadata": {
  "kernelspec": {
   "display_name": "Python 3",
   "language": "python",
   "name": "python3"
  },
  "language_info": {
   "codemirror_mode": {
    "name": "ipython",
    "version": 3
   },
   "file_extension": ".py",
   "mimetype": "text/x-python",
   "name": "python",
   "nbconvert_exporter": "python",
   "pygments_lexer": "ipython3",
   "version": "3.10.0"
  }
 },
 "nbformat": 4,
 "nbformat_minor": 2
}
